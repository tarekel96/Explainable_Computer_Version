{
 "cells": [
  {
   "cell_type": "code",
   "execution_count": 1,
   "metadata": {},
   "outputs": [
    {
     "name": "stderr",
     "output_type": "stream",
     "text": [
      "2024-01-07 17:56:10.915661: I tensorflow/core/platform/cpu_feature_guard.cc:182] This TensorFlow binary is optimized to use available CPU instructions in performance-critical operations.\n",
      "To enable the following instructions: AVX2 FMA, in other operations, rebuild TensorFlow with the appropriate compiler flags.\n"
     ]
    }
   ],
   "source": [
    "import pandas as pd\n",
    "from matplotlib import pyplot as plt\n",
    "import seaborn as sns\n",
    "from scipy.spatial import distance\n",
    "import numpy as np\n",
    "import keras\n",
    "import tensorflow as tf\n",
    "import os\n",
    "import random\n",
    "from tensorflow.keras.preprocessing import image\n",
    "from tensorflow.keras.applications.mobilenet import preprocess_input, decode_predictions\n",
    "from keras.preprocessing.image import ImageDataGenerator\n",
    "from sklearn.model_selection import train_test_split\n",
    "from PIL import Image\n",
    "from sklearn.metrics import make_scorer, roc_auc_score, accuracy_score, precision_score, recall_score, f1_score, confusion_matrix\n",
    "from skimage.feature import hog"
   ]
  },
  {
   "cell_type": "code",
   "execution_count": 2,
   "metadata": {},
   "outputs": [],
   "source": [
    "SEED = 172024\n",
    "random.seed(SEED)"
   ]
  },
  {
   "cell_type": "code",
   "execution_count": 3,
   "metadata": {},
   "outputs": [],
   "source": [
    "BASE_DIR_PATH = os.path.abspath(os.getcwd())\n",
    "DATA_BASE_DIR = BASE_DIR_PATH + '/data/'"
   ]
  },
  {
   "cell_type": "code",
   "execution_count": 4,
   "metadata": {},
   "outputs": [],
   "source": [
    "OG_CAR_BIKE_DIR = DATA_BASE_DIR + 'Car-Bike-Dataset/original'\n",
    "OG_CAR_DIR = DATA_BASE_DIR + 'Car-Bike-Dataset/original/Car'\n",
    "OG_BIKE_DIR = DATA_BASE_DIR + 'Car-Bike-Dataset/original/Bike'\n",
    "\n",
    "CAR_BIKE_DIR = DATA_BASE_DIR + 'Car-Bike-Dataset/cleaned'\n",
    "CAR_DIR = DATA_BASE_DIR + 'Car-Bike-Dataset/cleaned/Car'\n",
    "BIKE_DIR = DATA_BASE_DIR + 'Car-Bike-Dataset/cleaned/Bike'"
   ]
  },
  {
   "cell_type": "code",
   "execution_count": 5,
   "metadata": {},
   "outputs": [
    {
     "data": {
      "text/plain": [
       "4000"
      ]
     },
     "execution_count": 5,
     "metadata": {},
     "output_type": "execute_result"
    }
   ],
   "source": [
    "# total number of images in dataset\n",
    "len(os.listdir(OG_CAR_DIR) + os.listdir(OG_BIKE_DIR))"
   ]
  },
  {
   "cell_type": "markdown",
   "metadata": {},
   "source": [
    "Clean up image mode and format of image files"
   ]
  },
  {
   "cell_type": "code",
   "execution_count": 6,
   "metadata": {},
   "outputs": [
    {
     "name": "stderr",
     "output_type": "stream",
     "text": [
      "/Library/Frameworks/Python.framework/Versions/3.11/lib/python3.11/site-packages/PIL/Image.py:979: UserWarning: Palette images with Transparency expressed in bytes should be converted to RGBA images\n",
      "  warnings.warn(\n"
     ]
    }
   ],
   "source": [
    "# create clean Car image set\n",
    "for i, f in enumerate(sorted(os.listdir(OG_CAR_DIR))):\n",
    "    i = i + 1\n",
    "    im = Image.open(OG_CAR_DIR + '/' + f.strip())\n",
    "    new_file_name =  CAR_DIR + f'/Car-{i}.png'\n",
    "    # check if is not RGB\n",
    "    if im.mode != 'RGB':\n",
    "        # convert to RGB and save as PNG\n",
    "        rgb_im = im.convert(\"RGB\")\n",
    "        rgb_im.save(new_file_name, format='PNG')\n",
    "    else:\n",
    "        im.save(new_file_name, format='PNG')\n",
    "\n",
    "# create clean Bike image set\n",
    "for i, f in enumerate(sorted(os.listdir(OG_BIKE_DIR))):\n",
    "    i = i + 1\n",
    "    im = Image.open(OG_BIKE_DIR + '/' + f.strip())\n",
    "    new_file_name = BIKE_DIR + f'/Bike-{i}.png'\n",
    "    # check if is not RGB\n",
    "    if im.mode != 'RGB':\n",
    "        # convert to RGB and save as PNG\n",
    "        rgb_im = im.convert(\"RGB\")\n",
    "        rgb_im.save(new_file_name, format='PNG')\n",
    "    else:\n",
    "        im.save(new_file_name, format='PNG')"
   ]
  },
  {
   "cell_type": "markdown",
   "metadata": {},
   "source": [
    "**Cars = 0 and Bikes = 1**"
   ]
  },
  {
   "cell_type": "code",
   "execution_count": 18,
   "metadata": {},
   "outputs": [],
   "source": [
    "files = []\n",
    "for f in sorted(os.listdir(CAR_DIR)):\n",
    "    files.append([CAR_DIR + '/' + f, 0])\n",
    "for f in sorted(os.listdir(BIKE_DIR)):\n",
    "    files.append([BIKE_DIR + '/' + f, 1])\n",
    "files = np.array(files)"
   ]
  },
  {
   "cell_type": "markdown",
   "metadata": {},
   "source": [
    "View distribution of Cars vs Bikes"
   ]
  },
  {
   "cell_type": "code",
   "execution_count": 19,
   "metadata": {},
   "outputs": [
    {
     "data": {
      "text/plain": [
       "((4000, 2),\n",
       " 0    2000\n",
       " 1    2000\n",
       " dtype: int64)"
      ]
     },
     "execution_count": 19,
     "metadata": {},
     "output_type": "execute_result"
    }
   ],
   "source": [
    "files.shape, pd.Series(files[:, 1]).value_counts()"
   ]
  },
  {
   "cell_type": "markdown",
   "metadata": {},
   "source": [
    "The dataset is perfectly balanced between Cars and Bikes."
   ]
  },
  {
   "cell_type": "code",
   "execution_count": 20,
   "metadata": {},
   "outputs": [],
   "source": [
    "df_img_files = pd.DataFrame(files, columns=['img_file', 'label'])"
   ]
  },
  {
   "cell_type": "code",
   "execution_count": 21,
   "metadata": {},
   "outputs": [
    {
     "data": {
      "text/html": [
       "<div>\n",
       "<style scoped>\n",
       "    .dataframe tbody tr th:only-of-type {\n",
       "        vertical-align: middle;\n",
       "    }\n",
       "\n",
       "    .dataframe tbody tr th {\n",
       "        vertical-align: top;\n",
       "    }\n",
       "\n",
       "    .dataframe thead th {\n",
       "        text-align: right;\n",
       "    }\n",
       "</style>\n",
       "<table border=\"1\" class=\"dataframe\">\n",
       "  <thead>\n",
       "    <tr style=\"text-align: right;\">\n",
       "      <th></th>\n",
       "      <th>img_file</th>\n",
       "      <th>label</th>\n",
       "    </tr>\n",
       "  </thead>\n",
       "  <tbody>\n",
       "    <tr>\n",
       "      <th>0</th>\n",
       "      <td>/Users/Tarek/Documents/masterRootAppFolder/Exp...</td>\n",
       "      <td>0</td>\n",
       "    </tr>\n",
       "    <tr>\n",
       "      <th>1</th>\n",
       "      <td>/Users/Tarek/Documents/masterRootAppFolder/Exp...</td>\n",
       "      <td>0</td>\n",
       "    </tr>\n",
       "  </tbody>\n",
       "</table>\n",
       "</div>"
      ],
      "text/plain": [
       "                                            img_file label\n",
       "0  /Users/Tarek/Documents/masterRootAppFolder/Exp...     0\n",
       "1  /Users/Tarek/Documents/masterRootAppFolder/Exp...     0"
      ]
     },
     "execution_count": 21,
     "metadata": {},
     "output_type": "execute_result"
    }
   ],
   "source": [
    "df_img_files.head(2)"
   ]
  },
  {
   "cell_type": "code",
   "execution_count": 22,
   "metadata": {},
   "outputs": [],
   "source": [
    "def create_df_img(df, img_scale, interpolation='lanczos'):\n",
    "    pil_imgs = []\n",
    "    preprocessed_imgs = []\n",
    "    flattened_imgs = []\n",
    "    for i in range(len(df)):\n",
    "        img_file = df['img_file'][i]\n",
    "        img = image.load_img(img_file.strip(), target_size=(img_scale, img_scale), interpolation=interpolation)\n",
    "        img_array = image.img_to_array(img)\n",
    "        x = np.expand_dims(img_array, axis=0)\n",
    "        x = preprocess_input(x)\n",
    "        preprocessed_imgs.append(x)\n",
    "        flat_img = x.flatten()\n",
    "        flattened_imgs.append(flat_img)\n",
    "        pil_imgs.append(img)\n",
    "    pil_imgs = np.array(pil_imgs)\n",
    "    preprocessed_imgs = np.array(preprocessed_imgs)\n",
    "    flattened_imgs = np.array(flattened_imgs)\n",
    "    data = np.array([np.array([pil_imgs[i], preprocessed_imgs[i], flattened_imgs[i]], dtype=object) for i in range(len(pil_imgs))])\n",
    "    columns=['pil_imgs', 'preprocessed_imgs', 'flattened_imgs']\n",
    "    return pd.DataFrame(data, columns=columns)"
   ]
  },
  {
   "cell_type": "markdown",
   "metadata": {},
   "source": [
    "### Creating 16x16 Image Dataset"
   ]
  },
  {
   "cell_type": "code",
   "execution_count": 23,
   "metadata": {},
   "outputs": [],
   "source": [
    "df_img_16 = create_df_img(\n",
    "    df=df_img_files,\n",
    "    img_scale=16,\n",
    "    interpolation='lanczos'\n",
    ")"
   ]
  },
  {
   "cell_type": "code",
   "execution_count": 24,
   "metadata": {},
   "outputs": [
    {
     "data": {
      "text/html": [
       "<div>\n",
       "<style scoped>\n",
       "    .dataframe tbody tr th:only-of-type {\n",
       "        vertical-align: middle;\n",
       "    }\n",
       "\n",
       "    .dataframe tbody tr th {\n",
       "        vertical-align: top;\n",
       "    }\n",
       "\n",
       "    .dataframe thead th {\n",
       "        text-align: right;\n",
       "    }\n",
       "</style>\n",
       "<table border=\"1\" class=\"dataframe\">\n",
       "  <thead>\n",
       "    <tr style=\"text-align: right;\">\n",
       "      <th></th>\n",
       "      <th>pil_imgs</th>\n",
       "      <th>preprocessed_imgs</th>\n",
       "      <th>flattened_imgs</th>\n",
       "    </tr>\n",
       "  </thead>\n",
       "  <tbody>\n",
       "    <tr>\n",
       "      <th>0</th>\n",
       "      <td>[[[117, 24, 25], [128, 26, 32], [134, 28, 33],...</td>\n",
       "      <td>[[[[-0.08235294 -0.8117647  -0.8039216 ], [ 0....</td>\n",
       "      <td>[-0.082352936, -0.8117647, -0.8039216, 0.00392...</td>\n",
       "    </tr>\n",
       "    <tr>\n",
       "      <th>1</th>\n",
       "      <td>[[[252, 243, 223], [253, 246, 229], [254, 248,...</td>\n",
       "      <td>[[[[0.9764706  0.90588236 0.7490196 ], [0.9843...</td>\n",
       "      <td>[0.9764706, 0.90588236, 0.7490196, 0.9843137, ...</td>\n",
       "    </tr>\n",
       "  </tbody>\n",
       "</table>\n",
       "</div>"
      ],
      "text/plain": [
       "                                            pil_imgs  \\\n",
       "0  [[[117, 24, 25], [128, 26, 32], [134, 28, 33],...   \n",
       "1  [[[252, 243, 223], [253, 246, 229], [254, 248,...   \n",
       "\n",
       "                                   preprocessed_imgs  \\\n",
       "0  [[[[-0.08235294 -0.8117647  -0.8039216 ], [ 0....   \n",
       "1  [[[[0.9764706  0.90588236 0.7490196 ], [0.9843...   \n",
       "\n",
       "                                      flattened_imgs  \n",
       "0  [-0.082352936, -0.8117647, -0.8039216, 0.00392...  \n",
       "1  [0.9764706, 0.90588236, 0.7490196, 0.9843137, ...  "
      ]
     },
     "execution_count": 24,
     "metadata": {},
     "output_type": "execute_result"
    }
   ],
   "source": [
    "df_img_16.head(2)"
   ]
  },
  {
   "cell_type": "code",
   "execution_count": 36,
   "metadata": {},
   "outputs": [],
   "source": [
    "np.save(file=CAR_BIKE_DIR + '/16/df_img_16.npy', arr=df_img_16.to_numpy(), allow_pickle=True)"
   ]
  },
  {
   "cell_type": "markdown",
   "metadata": {},
   "source": [
    "### Creating 32x32 Image Dataset"
   ]
  },
  {
   "cell_type": "code",
   "execution_count": 26,
   "metadata": {},
   "outputs": [],
   "source": [
    "df_img_32 = create_df_img(\n",
    "    df=df_img_files,\n",
    "    img_scale=32,\n",
    "    interpolation='lanczos'\n",
    ")"
   ]
  },
  {
   "cell_type": "code",
   "execution_count": 27,
   "metadata": {},
   "outputs": [
    {
     "data": {
      "text/html": [
       "<div>\n",
       "<style scoped>\n",
       "    .dataframe tbody tr th:only-of-type {\n",
       "        vertical-align: middle;\n",
       "    }\n",
       "\n",
       "    .dataframe tbody tr th {\n",
       "        vertical-align: top;\n",
       "    }\n",
       "\n",
       "    .dataframe thead th {\n",
       "        text-align: right;\n",
       "    }\n",
       "</style>\n",
       "<table border=\"1\" class=\"dataframe\">\n",
       "  <thead>\n",
       "    <tr style=\"text-align: right;\">\n",
       "      <th></th>\n",
       "      <th>pil_imgs</th>\n",
       "      <th>preprocessed_imgs</th>\n",
       "      <th>flattened_imgs</th>\n",
       "    </tr>\n",
       "  </thead>\n",
       "  <tbody>\n",
       "    <tr>\n",
       "      <th>0</th>\n",
       "      <td>[[[167, 35, 38], [174, 36, 43], [179, 36, 47],...</td>\n",
       "      <td>[[[[ 0.30980396 -0.7254902  -0.7019608 ], [ 0....</td>\n",
       "      <td>[0.30980396, -0.7254902, -0.7019608, 0.3647059...</td>\n",
       "    </tr>\n",
       "    <tr>\n",
       "      <th>1</th>\n",
       "      <td>[[[252, 242, 222], [252, 244, 225], [253, 245,...</td>\n",
       "      <td>[[[[0.9764706 0.8980392 0.7411765], [0.9764706...</td>\n",
       "      <td>[0.9764706, 0.8980392, 0.7411765, 0.9764706, 0...</td>\n",
       "    </tr>\n",
       "  </tbody>\n",
       "</table>\n",
       "</div>"
      ],
      "text/plain": [
       "                                            pil_imgs  \\\n",
       "0  [[[167, 35, 38], [174, 36, 43], [179, 36, 47],...   \n",
       "1  [[[252, 242, 222], [252, 244, 225], [253, 245,...   \n",
       "\n",
       "                                   preprocessed_imgs  \\\n",
       "0  [[[[ 0.30980396 -0.7254902  -0.7019608 ], [ 0....   \n",
       "1  [[[[0.9764706 0.8980392 0.7411765], [0.9764706...   \n",
       "\n",
       "                                      flattened_imgs  \n",
       "0  [0.30980396, -0.7254902, -0.7019608, 0.3647059...  \n",
       "1  [0.9764706, 0.8980392, 0.7411765, 0.9764706, 0...  "
      ]
     },
     "execution_count": 27,
     "metadata": {},
     "output_type": "execute_result"
    }
   ],
   "source": [
    "df_img_32.head(2)"
   ]
  },
  {
   "cell_type": "code",
   "execution_count": 37,
   "metadata": {},
   "outputs": [],
   "source": [
    "np.save(file=CAR_BIKE_DIR + '/32/df_img_32.npy', arr=df_img_32.to_numpy(), allow_pickle=True)"
   ]
  },
  {
   "cell_type": "markdown",
   "metadata": {},
   "source": [
    "### Creating 64x64 Image Dataset"
   ]
  },
  {
   "cell_type": "code",
   "execution_count": 29,
   "metadata": {},
   "outputs": [],
   "source": [
    "df_img_64 = create_df_img(\n",
    "    df=df_img_files,\n",
    "    img_scale=64,\n",
    "    interpolation='lanczos'\n",
    ")"
   ]
  },
  {
   "cell_type": "code",
   "execution_count": 30,
   "metadata": {},
   "outputs": [
    {
     "data": {
      "text/html": [
       "<div>\n",
       "<style scoped>\n",
       "    .dataframe tbody tr th:only-of-type {\n",
       "        vertical-align: middle;\n",
       "    }\n",
       "\n",
       "    .dataframe tbody tr th {\n",
       "        vertical-align: top;\n",
       "    }\n",
       "\n",
       "    .dataframe thead th {\n",
       "        text-align: right;\n",
       "    }\n",
       "</style>\n",
       "<table border=\"1\" class=\"dataframe\">\n",
       "  <thead>\n",
       "    <tr style=\"text-align: right;\">\n",
       "      <th></th>\n",
       "      <th>pil_imgs</th>\n",
       "      <th>preprocessed_imgs</th>\n",
       "      <th>flattened_imgs</th>\n",
       "    </tr>\n",
       "  </thead>\n",
       "  <tbody>\n",
       "    <tr>\n",
       "      <th>0</th>\n",
       "      <td>[[[178, 33, 38], [177, 30, 37], [180, 32, 42],...</td>\n",
       "      <td>[[[[ 0.39607847 -0.7411765  -0.7019608 ], [ 0....</td>\n",
       "      <td>[0.39607847, -0.7411765, -0.7019608, 0.3882353...</td>\n",
       "    </tr>\n",
       "    <tr>\n",
       "      <th>1</th>\n",
       "      <td>[[[252, 241, 220], [252, 242, 222], [252, 244,...</td>\n",
       "      <td>[[[[0.9764706 0.8901961 0.7254902], [0.9764706...</td>\n",
       "      <td>[0.9764706, 0.8901961, 0.7254902, 0.9764706, 0...</td>\n",
       "    </tr>\n",
       "  </tbody>\n",
       "</table>\n",
       "</div>"
      ],
      "text/plain": [
       "                                            pil_imgs  \\\n",
       "0  [[[178, 33, 38], [177, 30, 37], [180, 32, 42],...   \n",
       "1  [[[252, 241, 220], [252, 242, 222], [252, 244,...   \n",
       "\n",
       "                                   preprocessed_imgs  \\\n",
       "0  [[[[ 0.39607847 -0.7411765  -0.7019608 ], [ 0....   \n",
       "1  [[[[0.9764706 0.8901961 0.7254902], [0.9764706...   \n",
       "\n",
       "                                      flattened_imgs  \n",
       "0  [0.39607847, -0.7411765, -0.7019608, 0.3882353...  \n",
       "1  [0.9764706, 0.8901961, 0.7254902, 0.9764706, 0...  "
      ]
     },
     "execution_count": 30,
     "metadata": {},
     "output_type": "execute_result"
    }
   ],
   "source": [
    "df_img_64.head(2)"
   ]
  },
  {
   "cell_type": "code",
   "execution_count": 38,
   "metadata": {},
   "outputs": [],
   "source": [
    "np.save(file=CAR_BIKE_DIR + '/64/df_img_64.npy', arr=df_img_64.to_numpy(), allow_pickle=True)"
   ]
  },
  {
   "cell_type": "markdown",
   "metadata": {},
   "source": [
    "### Creating 128x128 Image Dataset"
   ]
  },
  {
   "cell_type": "code",
   "execution_count": 32,
   "metadata": {},
   "outputs": [],
   "source": [
    "df_img_128 = create_df_img(\n",
    "    df=df_img_files,\n",
    "    img_scale=128,\n",
    "    interpolation='lanczos'\n",
    ")"
   ]
  },
  {
   "cell_type": "code",
   "execution_count": 33,
   "metadata": {},
   "outputs": [
    {
     "data": {
      "text/html": [
       "<div>\n",
       "<style scoped>\n",
       "    .dataframe tbody tr th:only-of-type {\n",
       "        vertical-align: middle;\n",
       "    }\n",
       "\n",
       "    .dataframe tbody tr th {\n",
       "        vertical-align: top;\n",
       "    }\n",
       "\n",
       "    .dataframe thead th {\n",
       "        text-align: right;\n",
       "    }\n",
       "</style>\n",
       "<table border=\"1\" class=\"dataframe\">\n",
       "  <thead>\n",
       "    <tr style=\"text-align: right;\">\n",
       "      <th></th>\n",
       "      <th>pil_imgs</th>\n",
       "      <th>preprocessed_imgs</th>\n",
       "      <th>flattened_imgs</th>\n",
       "    </tr>\n",
       "  </thead>\n",
       "  <tbody>\n",
       "    <tr>\n",
       "      <th>0</th>\n",
       "      <td>[[[189, 42, 48], [187, 39, 45], [183, 34, 42],...</td>\n",
       "      <td>[[[[ 0.48235297 -0.67058825 -0.62352943], [ 0....</td>\n",
       "      <td>[0.48235297, -0.67058825, -0.62352943, 0.46666...</td>\n",
       "    </tr>\n",
       "    <tr>\n",
       "      <th>1</th>\n",
       "      <td>[[[252, 241, 219], [252, 241, 221], [253, 242,...</td>\n",
       "      <td>[[[[0.9764706 0.8901961 0.7176471], [0.9764706...</td>\n",
       "      <td>[0.9764706, 0.8901961, 0.7176471, 0.9764706, 0...</td>\n",
       "    </tr>\n",
       "  </tbody>\n",
       "</table>\n",
       "</div>"
      ],
      "text/plain": [
       "                                            pil_imgs  \\\n",
       "0  [[[189, 42, 48], [187, 39, 45], [183, 34, 42],...   \n",
       "1  [[[252, 241, 219], [252, 241, 221], [253, 242,...   \n",
       "\n",
       "                                   preprocessed_imgs  \\\n",
       "0  [[[[ 0.48235297 -0.67058825 -0.62352943], [ 0....   \n",
       "1  [[[[0.9764706 0.8901961 0.7176471], [0.9764706...   \n",
       "\n",
       "                                      flattened_imgs  \n",
       "0  [0.48235297, -0.67058825, -0.62352943, 0.46666...  \n",
       "1  [0.9764706, 0.8901961, 0.7176471, 0.9764706, 0...  "
      ]
     },
     "execution_count": 33,
     "metadata": {},
     "output_type": "execute_result"
    }
   ],
   "source": [
    "df_img_128.head(2)"
   ]
  },
  {
   "cell_type": "code",
   "execution_count": 39,
   "metadata": {},
   "outputs": [],
   "source": [
    "np.save(file=CAR_BIKE_DIR + '/128/df_img_128.npy', arr=df_img_128.to_numpy(), allow_pickle=True)"
   ]
  },
  {
   "cell_type": "markdown",
   "metadata": {},
   "source": [
    "Same image but different scales: 16, 32, 64, 128."
   ]
  },
  {
   "cell_type": "code",
   "execution_count": 35,
   "metadata": {},
   "outputs": [
    {
     "data": {
      "image/png": "[encoded data removed]",
      "text/plain": [
       "<Figure size 1000x1000 with 4 Axes>"
      ]
     },
     "metadata": {},
     "output_type": "display_data"
    }
   ],
   "source": [
    "fig, ax = plt.subplots(nrows=1, ncols=4, figsize=(10,10))\n",
    "\n",
    "ax[0].imshow(df_img_16['pil_imgs'][0])\n",
    "ax[1].imshow(df_img_32['pil_imgs'][0])\n",
    "ax[2].imshow(df_img_64['pil_imgs'][0])\n",
    "ax[3].imshow(df_img_128['pil_imgs'][0])\n",
    "plt.show()"
   ]
  },
  {
   "cell_type": "markdown",
   "metadata": {},
   "source": [
    "Will use the rest of code in another file later..."
   ]
  },
  {
   "cell_type": "code",
   "execution_count": null,
   "metadata": {},
   "outputs": [],
   "source": [
    "columns_names = ['img', 'label']\n",
    "\n",
    "img_32_array = np.load(BASE_DIR_PATH + '', allow_pickle=True)\n",
    "img_32_df = pd.DataFrame(img_32_array)"
   ]
  },
  {
   "cell_type": "code",
   "execution_count": null,
   "metadata": {},
   "outputs": [],
   "source": [
    "# create HOG Dataframes\n",
    "hog_img_32_array = []\n",
    "img_scale = 32\n",
    "\n",
    "for i in range(len(img_32_df)):\n",
    "    img, label = img_32_df['img'][i], img_32_df['label'][i]\n",
    "    hog_fd, hog_img = hog(\n",
    "        image=np.array(preprocess_input).reshape(img_scale, img_scale,3),\n",
    "        orientations=9,\n",
    "        pixels_per_cell=(8,8),\n",
    "        cells_per_block=(2,2),\n",
    "        visualize=True,\n",
    "        channel_axis=2\n",
    "    )\n",
    "    hog_img_32_array.append(img, hog_fd, hog_img, label)\n",
    "\n",
    "hog_img_32_array = np.array(hog_img_32_array)"
   ]
  },
  {
   "cell_type": "code",
   "execution_count": null,
   "metadata": {},
   "outputs": [],
   "source": [
    "hog_column_names = ['img', 'hog_fd', 'hog_img', 'label']\n",
    "\n",
    "hog_img_32_df = pd.DataFrame(hog_img_32_array, columns=hog_column_names)"
   ]
  },
  {
   "cell_type": "code",
   "execution_count": null,
   "metadata": {},
   "outputs": [],
   "source": [
    "from sklearn.metrics import roc_auc_score, accuracy_score, precision_score, recall_score, f1_score, confusion_matrix\n",
    "\n",
    "def get_model_scores(y_test, y_pred):\n",
    "    acc = accuracy_score(y_test, y_pred)\n",
    "    prec = precision_score(y_test, y_pred)\n",
    "    recall = recall_score(y_test, y_pred)\n",
    "    f1 = f1_score(y_test, y_pred)\n",
    "    roc = roc_auc_score(y_test, y_pred)\n",
    "    cm = confusion_matrix(y_test, y_pred)\n",
    "\n",
    "    total_samples_per_class = cm.sum(axis=1)\n",
    "    accuracies_per_class = cm.diagonal() / total_samples_per_class\n",
    "\n",
    "    class_0_accuracy = accuracies_per_class[0]\n",
    "    class_1_accuracy = accuracies_per_class[1]\n",
    "\n",
    "    metrics = (acc, prec, recall, f1, roc, class_0_accuracy, class_1_accuracy)\n",
    "    return metrics"
   ]
  },
  {
   "cell_type": "code",
   "execution_count": null,
   "metadata": {},
   "outputs": [],
   "source": [
    "from sklearn.model_selection import StratifiedKFold\n",
    "\n",
    "def k_fold_scores(model, df_img, df_hog_img, model_name=None, n_splits=10, seed=12172023) -> dict:\n",
    "\n",
    "    random.seed(seed)\n",
    "\n",
    "    rand_list = random.sample(range(0, len(df_img)), len(df_img))\n",
    "\n",
    "    skf = StratifiedKFold(n_splits=n_splits, shuffle=True, random_state=seed)\n",
    "\n",
    "    k_fold_results = {}\n",
    "\n",
    "    # Vectorized images\n",
    "    randomized_imgs = []\n",
    "\n",
    "    # shuffle records according to rand_list\n",
    "    for i in range(len(df_img)):\n",
    "        ind = rand_list[i]\n",
    "        flat_img, outcome = df_img['flat_img_array'][ind], df_img['outcome'][ind]\n",
    "        randomized_imgs.append(np.array([flat_img, outcome]))\n",
    "\n",
    "    randomized_imgs = np.array(randomized_imgs)\n",
    "\n",
    "    X, y = randomized_imgs[:, 0], randomized_imgs[:, 1]\n",
    "\n",
    "    wide_X = np.zeros((len(X), X[0].shape[0]))\n",
    "    for indx in range(len(X)):\n",
    "        for feature in range(X[0].shape[0]):\n",
    "            wide_X[indx][feature] = X[indx][feature]\n",
    "    \n",
    "    y = y.astype(int)\n",
    "\n",
    "    # Vectorized Stratified K-Fold\n",
    "    acc_scores = []\n",
    "    prec_scores = []\n",
    "    recall_scores = []\n",
    "    f1_scores = []\n",
    "    roc_scores = []\n",
    "    class_0_acc_scores = []\n",
    "    class_1_acc_scores = []\n",
    "\n",
    "    for train_indx, test_indx in skf.split(wide_X, y):\n",
    "        X_train, X_test = wide_X[train_indx], wide_X[test_indx]\n",
    "        y_train, y_test = y[train_indx], y[test_indx]\n",
    "        model.fit(X_train, y_train)\n",
    "        y_pred = model.predict(X_test)\n",
    "        acc, prec, recall, f1, roc, class_0_accuracy, class_1_accuracy = get_model_scores(y_test, y_pred)\n",
    "        acc_scores.append(acc); prec_scores.append(prec)\n",
    "        recall_scores.append(recall); f1_scores.append(f1)\n",
    "        roc_scores.append(roc); class_0_acc_scores.append(class_0_accuracy)\n",
    "        class_1_acc_scores.append(class_1_accuracy)\n",
    "\n",
    "    avg_acc = np.mean(acc_scores)\n",
    "    avg_prec_scores = np.mean(prec_scores)\n",
    "    avg_recall_scores = np.mean(recall_scores)\n",
    "    avg_f1_scores = np.mean(f1_scores)\n",
    "    avg_roc_scores = np.mean(roc_scores)\n",
    "    avg_class_0_acc_scores = np.mean(class_0_acc_scores)\n",
    "    avg_class_1_acc_scores = np.mean(class_1_acc_scores)\n",
    "\n",
    "    if model_name is not None:\n",
    "        print(f'(Vectorized) {model_name} Model Stratified {n_splits}-Fold Results:')\n",
    "    print(f'{avg_acc}')\n",
    "    print(f'{avg_prec_scores=}')\n",
    "    print(f'{avg_recall_scores=}')\n",
    "    print(f'{avg_f1_scores=}')\n",
    "    print(f'{avg_roc_scores=}')\n",
    "    print(f'{avg_class_0_acc_scores=}')\n",
    "    print(f'{avg_class_1_acc_scores=}')\n",
    "\n",
    "    k_fold_results['flat_img_results'] = (avg_acc, avg_prec_scores, avg_recall_scores, avg_f1_scores, avg_roc_scores, avg_class_0_acc_scores, avg_class_1_acc_scores)\n",
    "\n",
    "    # HOG\n",
    "    hog_records = []\n",
    "\n",
    "    for i in range(len(df_hog_img)):\n",
    "        ind = rand_list[i]\n",
    "        hog_fd, outcome = df_hog_img['hog_fd'][ind], df_hog_img['outcome'][ind]\n",
    "        hog_records.append(np.array([hog_fd, outcome]))\n",
    "\n",
    "    hog_records = np.array(hog_records)\n",
    "\n",
    "    hog_X, hog_y = hog_records[:, 0], hog_records[:, 1]\n",
    "\n",
    "    hog_wide_X = np.zeros((len(hog_X), hog_X[0].shape))\n",
    "    for indx in range(len(hog_X)):\n",
    "        for feature in range(hog_X[0].shape[0]):\n",
    "            hog_wide_X[indx][feature] = hog_X[indx][feature]\n",
    "\n",
    "    # HOG Stratified K-Fold\n",
    "    hog_acc_scores = []\n",
    "    hog_prec_scores = []\n",
    "    hog_recall_scores = []\n",
    "    hog_f1_scores = []\n",
    "    hog_roc_scores = []\n",
    "    hog_class_0_acc_scores = []\n",
    "    hog_class_1_acc_scores = []\n",
    "\n",
    "    for train_indx, test_indx in skf.split(hog_wide_X, hog_y):\n",
    "        X_train, X_test = hog_wide_X[train_indx], hog_wide_X[test_indx]\n",
    "        y_train, y_test = hog_y[train_indx], hog_y[test_indx]\n",
    "        model.fit(X_train, y_train)\n",
    "        y_pred = model.predict(X_test)\n",
    "        acc, prec, recall, f1, roc, class_0_accuracy, class_1_accuracy = get_model_scores(y_test, y_pred)\n",
    "        hog_acc_scores.append(acc); hog_prec_scores.append(prec)\n",
    "        hog_recall_scores.append(recall); hog_f1_scores.append(f1)\n",
    "        hog_roc_scores.append(roc); hog_class_0_acc_scores.append(class_0_accuracy)\n",
    "        hog_class_1_acc_scores.append(class_1_accuracy)\n",
    "    \n",
    "    hog_avg_acc = np.mean(hog_acc_scores)\n",
    "    hog_avg_prec_scores = np.mean(hog_prec_scores)\n",
    "    hog_avg_recall_scores = np.mean(hog_recall_scores)\n",
    "    hog_avg_f1_scores = np.mean(hog_f1_scores)\n",
    "    hog_avg_roc_scores = np.mean(hog_roc_scores)\n",
    "    hog_avg_class_0_acc_scores = np.mean(hog_class_0_acc_scores)\n",
    "    hog_avg_class_1_acc_scores = np.mean(hog_class_1_acc_scores)\n",
    "\n",
    "    if model_name is not None:\n",
    "        print(f'(HOG) {model_name} Model Stratified {n_splits}-Fold Results:')\n",
    "    print(f'{hog_avg_acc}')\n",
    "    print(f'{hog_avg_prec_scores=}')\n",
    "    print(f'{hog_avg_recall_scores=}')\n",
    "    print(f'{hog_avg_f1_scores=}')\n",
    "    print(f'{hog_avg_roc_scores=}')\n",
    "    print(f'{hog_avg_class_0_acc_scores=}')\n",
    "    print(f'{hog_avg_class_1_acc_scores=}')\n",
    "\n",
    "    k_fold_results['hog_results'] = (hog_avg_acc, hog_avg_prec_scores, hog_avg_recall_scores, hog_avg_f1_scores, hog_avg_roc_scores, hog_avg_class_0_acc_scores, hog_avg_class_1_acc_scores)\n",
    "\n",
    "    return k_fold_results\n"
   ]
  },
  {
   "cell_type": "code",
   "execution_count": null,
   "metadata": {},
   "outputs": [],
   "source": [
    "from datetime import datetime\n",
    "def today_date():\n",
    "    return f'{datetime.today().month}.{datetime.today().day}.{datetime.today().year}'"
   ]
  },
  {
   "cell_type": "code",
   "execution_count": null,
   "metadata": {},
   "outputs": [],
   "source": [
    "def class_0_accuracy(y_test, y_pred):\n",
    "    cm = confusion_matrix(y_test, y_pred)\n",
    "    total_samples_per_class = cm.sum(axis=1)\n",
    "    accuracies_per_class = cm.diagonal() / total_samples_per_class\n",
    "    class_0_accuracy = accuracies_per_class[0]\n",
    "    return class_0_accuracy\n",
    "\n",
    "def class_1_accuracy(y_test, y_pred):\n",
    "    cm = confusion_matrix(y_test, y_pred)\n",
    "    total_samples_per_class = cm.sum(axis=1)\n",
    "    accuracies_per_class = cm.diagonal() / total_samples_per_class\n",
    "    class_1_accuracy = accuracies_per_class[1]\n",
    "    return class_1_accuracy"
   ]
  },
  {
   "cell_type": "code",
   "execution_count": null,
   "metadata": {},
   "outputs": [],
   "source": [
    "# Pipeline (HOG + SVM hyperparameter tuning)\n",
    "\n",
    "import logging\n",
    "from sklearn.base import BaseEstimator, TransformerMixin\n",
    "from sklearn.pipeline import Pipeline\n",
    "from sklearn.model_selection import GridSearchCV, StratifiedKFold\n",
    "from sklearn.svm import SVC\n",
    "\n",
    "class HOGTransformer(BaseEstimator, TransformerMixin):\n",
    "    def __init__(self, orientations=9, pixels_per_cell=(8,8),\n",
    "                 cells_per_block=(2,2)):\n",
    "        self.orientations = orientations\n",
    "        self.pixels_per_cell = pixels_per_cell\n",
    "        self.cells_per_block = cells_per_block\n",
    "    \n",
    "    def fit(self, X, y):\n",
    "        return self\n",
    "    \n",
    "    def transform(self, X):\n",
    "        hog_X = []\n",
    "        img_scale = X[0].shape[1]\n",
    "\n",
    "        for x in X:\n",
    "            hog_fd, _ = hog(\n",
    "                image=np.array(x).reshape((img_scale, img_scale, 3)),\n",
    "                orientations=self.orientations,\n",
    "                pixels_per_cell=self.pixels_per_cell,\n",
    "                cells_per_block=self.cells_per_block,\n",
    "                visualize=True,\n",
    "                channel_axis=2\n",
    "            )\n",
    "            hog_X.append(hog_fd)\n",
    "        \n",
    "        hog_X = np.array(hog_X)\n",
    "\n",
    "        hog_wide_X = np.zeros((len(hog_X), hog_X[0].shape[0]))\n",
    "        for indx in range(len(hog_X)):\n",
    "            for feature in range(hog_X[0].shape):\n",
    "                hog_wide_X[indx][feature] = hog_X[indx][feature]\n",
    "        \n",
    "        return hog_wide_X"
   ]
  },
  {
   "cell_type": "code",
   "execution_count": null,
   "metadata": {},
   "outputs": [],
   "source": [
    "def hog_svm_hyperparameter_tester(img_df, param_grid, experiment_name, n_splits=3, seed=12172023):\n",
    "    \n",
    "    # preprocessed_img = PIL image\n",
    "    X, y = np.array(img_df['preprocessed_img'][:]), np.array(img_df['outcome'][:]).astype(int)\n",
    "\n",
    "    log_file = './experiment_logs/{}_{}'.format(today_date(), experiment_name)\n",
    "\n",
    "    logger = logging.getLogger()\n",
    "    logger.setLevel(logging.INFO)\n",
    "\n",
    "    file_handler = logging.FileHandler(log_file, mode='w')\n",
    "    file_handler.setLevel(logging.INFO)\n",
    "\n",
    "    formatter = logging.Formatter('%(asctime)s %(message)s')\n",
    "    file_handler.setFormatter(formatter)\n",
    "\n",
    "    logger.addHandler(file_handler)\n",
    "\n",
    "    random.seed(seed)\n",
    "\n",
    "    skf = StratifiedKFold(n_splits=n_splits, shuffle=True, random_state=seed)\n",
    "\n",
    "    scorers = {\n",
    "        'roc_auc': make_scorer(roc_auc_score),\n",
    "        'class_0_accuracy': make_scorer(class_0_accuracy),\n",
    "        'class_1_accuracy': make_scorer(class_1_accuracy),\n",
    "        'precision': make_scorer(precision_score),\n",
    "        'accuracy': make_scorer(accuracy_score),\n",
    "        'recall': make_scorer(recall_score),\n",
    "        'f1': make_scorer(f1_score)\n",
    "    }\n",
    "\n",
    "    # pipeline\n",
    "    pipeline = Pipeline([\n",
    "        ('HOG', HOGTransformer()),\n",
    "        ('SVM', SVC())\n",
    "    ])\n",
    "\n",
    "    grid_search = GridSearchCV(\n",
    "        estimator=pipeline,\n",
    "        param_grid=param_grid,\n",
    "        scoring=scorers,\n",
    "        refit='roc_auc',\n",
    "        cv=skf,\n",
    "        verbose=2\n",
    "    )\n",
    "\n",
    "    grid_search.fit(X, y)\n",
    "\n",
    "    cv_results = grid_search.cv_results_\n",
    "    for i in range(len(cv_results['params'])):\n",
    "        print('Parameters: {}'.format(cv_results['params'][i]))\n",
    "        logging.info('Parameters: {}'.format(cv_results['params'][i]))\n",
    "        for scorer in scorers:\n",
    "            print('{}: {}'.format(scorer, cv_results[f'mean_test_{scorer}'][i]))\n",
    "            logging.info('{}: {}'.format(scorer, cv_results[f'mean_test_{scorer}'][i]))\n",
    "        print('\\n'); logging.info('\\n')\n",
    "    \n",
    "    print('Best parameters found: {}'.format(grid_search.best_params_))\n",
    "    print('Best cross-validated ROC AUC Score: {}'.format(grid_search.best_score_))\n",
    "    logging.info('Best parameters found: {}'.format(grid_search.best_params_))\n",
    "    logging.info('Best cross-validated ROC AUC Score: {}'.format(grid_search.best_score_))\n",
    "\n",
    "    try:\n",
    "        file_handler.close()\n",
    "    except Exception as e:\n",
    "        print('Error shutting down the logging.\\nError msg: {}'.format(e))\n",
    "        pass\n",
    "\n",
    "    return grid_search"
   ]
  }
 ],
 "metadata": {
  "kernelspec": {
   "display_name": "Python 3",
   "language": "python",
   "name": "python3"
  },
  "language_info": {
   "codemirror_mode": {
    "name": "ipython",
    "version": 3
   },
   "file_extension": ".py",
   "mimetype": "text/x-python",
   "name": "python",
   "nbconvert_exporter": "python",
   "pygments_lexer": "ipython3",
   "version": "3.11.0"
  }
 },
 "nbformat": 4,
 "nbformat_minor": 2
}
